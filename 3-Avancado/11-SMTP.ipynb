{
 "cells": [
  {
   "cell_type": "markdown",
   "metadata": {},
   "source": [
    "# Enviando email SMTP pelo GMail\n",
    "\n",
    "### Criando Token\n",
    "\n",
    "Para criar um token que será utilizado como senha em nossa aplicação, precisamos ir até o seguinte link: https://security.google.com/settings/security/apppasswords.\n",
    "\n",
    "Na página, vamos selecionar a opção “Outro” para definir um nome para nosso projeto. Em seguida, determinamos o nome da aplicação e geramos o token\n",
    "\n",
    "Ao clicar em “GERAR”, seremos redirecionados para a tela de login da nossa conta. Ao inserir o email e senha, clicamos em “Próxima” e nosso token será gerado com sucesso\n",
    "\n",
    "É essa “senha de app” que vamos utilizar para autenticar com nosso gmail na aplicação (lembre-se de copiá-la).\n",
    "\n",
    "### Criando script para envio de email"
   ]
  },
  {
   "cell_type": "code",
   "execution_count": 4,
   "metadata": {},
   "outputs": [
    {
     "data": {
      "text/plain": [
       "(221, b'2.0.0 closing connection i16sm18308555qkk.1 - gsmtp')"
      ]
     },
     "execution_count": 4,
     "metadata": {},
     "output_type": "execute_result"
    }
   ],
   "source": [
    "import smtplib\n",
    "import email.message\n",
    "\n",
    "token = 'wzpawjucfmlecvzr'\n",
    "content = \"\"\"\n",
    "<html>\n",
    "<body>\n",
    "    <p><b>Testando Email</b></p>\n",
    "    <p>Te amo, Gata!!!</p>\n",
    "</body>\n",
    "</html>\n",
    "\"\"\"\n",
    "\n",
    "msg = email.message.Message()\n",
    "\n",
    "msg['Subject'] = 'Teste de Email'\n",
    "msg['From'] = 'szagot@gmail.com'\n",
    "msg['To'] = 'alini.r.bispo@gmail.com'\n",
    "\n",
    "msg.add_header('Content-type', 'text/html')\n",
    "msg.set_payload(content)\n",
    "\n",
    "server = smtplib.SMTP_SSL('smtp.gmail.com', 465)\n",
    "server.login(msg['From'], token)\n",
    "server.sendmail(\n",
    "    # Remetente\n",
    "    msg['From'],\n",
    "    # Destinatário(s)\n",
    "    [ msg['To'] ],\n",
    "    # Conteúdo\n",
    "    msg.as_string()\n",
    ")\n",
    "server.quit()"
   ]
  },
  {
   "cell_type": "markdown",
   "metadata": {},
   "source": [
    "### Email Templates: \n",
    "\n",
    "https://elements.envato.com/web-templates/email-templates"
   ]
  }
 ],
 "metadata": {
  "kernelspec": {
   "display_name": "Python 3",
   "language": "python",
   "name": "python3"
  },
  "language_info": {
   "codemirror_mode": {
    "name": "ipython",
    "version": 3
   },
   "file_extension": ".py",
   "mimetype": "text/x-python",
   "name": "python",
   "nbconvert_exporter": "python",
   "pygments_lexer": "ipython3",
   "version": "3.7.3"
  }
 },
 "nbformat": 4,
 "nbformat_minor": 2
}
