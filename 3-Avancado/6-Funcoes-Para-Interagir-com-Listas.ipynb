{
 "cells": [
  {
   "cell_type": "markdown",
   "metadata": {},
   "source": [
    "# map()"
   ]
  },
  {
   "cell_type": "markdown",
   "metadata": {},
   "source": [
    "O `map()` permite fazer uma iteração dentro de uma lista, criando um gerador para uma nova lista com os itens alterados conforme a função definida.\n",
    "\n",
    "**Exemplo**:"
   ]
  },
  {
   "cell_type": "code",
   "execution_count": 16,
   "metadata": {},
   "outputs": [],
   "source": [
    "def farenheit(t):\n",
    "    \"\"\"\n",
    "    Converte de Celcius para Farenheit\n",
    "    \"\"\"\n",
    "    return (9/5) * t + 32\n",
    "\n",
    "lista_c = [9, 22, 40, 90, 120]"
   ]
  },
  {
   "cell_type": "code",
   "execution_count": 17,
   "metadata": {},
   "outputs": [
    {
     "name": "stdout",
     "output_type": "stream",
     "text": [
      "[48.2, 71.6, 104.0, 194.0, 248.0]\n"
     ]
    }
   ],
   "source": [
    "# Usando no método convencional\n",
    "lista_f = []\n",
    "for t in lista_c:\n",
    "    lista_f += [ farenheit(t) ]\n",
    "\n",
    "print(lista_f)"
   ]
  },
  {
   "cell_type": "code",
   "execution_count": 18,
   "metadata": {},
   "outputs": [
    {
     "name": "stdout",
     "output_type": "stream",
     "text": [
      "[48.2, 71.6, 104.0, 194.0, 248.0]\n"
     ]
    }
   ],
   "source": [
    "# Usando função map - É necessário converte em lista, pq neste exemplo, lista_f é apens um gerador.\n",
    "lista_f = list( map(farenheit, lista_c) )\n",
    "print(lista_f)"
   ]
  },
  {
   "cell_type": "code",
   "execution_count": 21,
   "metadata": {},
   "outputs": [
    {
     "name": "stdout",
     "output_type": "stream",
     "text": [
      "[48.2, 71.6, 104.0, 194.0, 248.0]\n"
     ]
    }
   ],
   "source": [
    "# Usando com lambda\n",
    "lista_f = list( map( lambda t: (9/5) * t + 32, lista_c ) )\n",
    "print(lista_f)"
   ]
  },
  {
   "cell_type": "markdown",
   "metadata": {},
   "source": [
    "# filter()"
   ]
  },
  {
   "cell_type": "markdown",
   "metadata": {},
   "source": [
    "O `filter()` filtra os itens de uma lista conforme o compradador da função, que deve retornar `True`ou `False`\n",
    "\n",
    "**Exemplo**:"
   ]
  },
  {
   "cell_type": "code",
   "execution_count": 34,
   "metadata": {},
   "outputs": [
    {
     "name": "stdout",
     "output_type": "stream",
     "text": [
      "[2, 4]\n"
     ]
    }
   ],
   "source": [
    "lista = [1, 2, 3, 4, 5]\n",
    "\n",
    "# Encontrando apenas números pares\n",
    "apenas_pares = list( filter( lambda p: p % 2 == 0, lista ) )\n",
    "\n",
    "print(apenas_pares)"
   ]
  },
  {
   "cell_type": "markdown",
   "metadata": {},
   "source": [
    "# reduce()"
   ]
  },
  {
   "cell_type": "markdown",
   "metadata": {},
   "source": [
    "O `functools.reduce()` tambem interage com uma lista, porém ela usa dois valores para as funções, reduzindo até ficar um único item.\n",
    "\n",
    "**Exemplo**: em uma lista `[1, 2, 3, 4, 5]` faça: 1+2 = 3 + 3 = 6 + 4 = 10 + 5 = 15"
   ]
  },
  {
   "cell_type": "code",
   "execution_count": 32,
   "metadata": {},
   "outputs": [
    {
     "name": "stdout",
     "output_type": "stream",
     "text": [
      "15\n"
     ]
    }
   ],
   "source": [
    "from functools import reduce\n",
    "\n",
    "soma_pa = reduce(lambda a,b: a+b, lista)\n",
    "print(soma_pa)"
   ]
  },
  {
   "cell_type": "markdown",
   "metadata": {},
   "source": [
    "**Exemplo 2:** verifique qual o maior item da lista:"
   ]
  },
  {
   "cell_type": "code",
   "execution_count": 30,
   "metadata": {},
   "outputs": [
    {
     "name": "stdout",
     "output_type": "stream",
     "text": [
      "5\n"
     ]
    }
   ],
   "source": [
    "maior = reduce(lambda a,b: a if a > b else b, lista)\n",
    "print(maior)"
   ]
  },
  {
   "cell_type": "code",
   "execution_count": 36,
   "metadata": {},
   "outputs": [
    {
     "name": "stdout",
     "output_type": "stream",
     "text": [
      "5\n"
     ]
    }
   ],
   "source": [
    "# Isso e semelhande a:\n",
    "print(max(lista))"
   ]
  },
  {
   "cell_type": "markdown",
   "metadata": {},
   "source": [
    "# zip()"
   ]
  },
  {
   "cell_type": "markdown",
   "metadata": {},
   "source": [
    "O `zip()` agrega duas lista de mesmo tamanho, colocando  cada item em uma tupla, possibilitando um comparativo entre elas. Se as listas tiverem tamanhos diferentes, os itens excedentes da lista maior serão ignorados.\n",
    "\n",
    "**Exemplo**:"
   ]
  },
  {
   "cell_type": "code",
   "execution_count": 40,
   "metadata": {},
   "outputs": [
    {
     "name": "stdout",
     "output_type": "stream",
     "text": [
      "3\n",
      "5\n",
      "6\n",
      "5\n"
     ]
    }
   ],
   "source": [
    "a = [1, 5, 6, 0]\n",
    "b = [3, 1, 4, 5]\n",
    "\n",
    "# Imprimindo apenas os itens maiores de cada lista\n",
    "for i in zip(a, b):\n",
    "    print(max(i))"
   ]
  },
  {
   "cell_type": "code",
   "execution_count": 42,
   "metadata": {},
   "outputs": [
    {
     "name": "stdout",
     "output_type": "stream",
     "text": [
      "[3, 5, 6, 5]\n"
     ]
    }
   ],
   "source": [
    "# Isso pode ser feito assim:\n",
    "lista_maior = list( map( lambda i: max(i), zip(a,b) ) )\n",
    "\n",
    "print(lista_maior)"
   ]
  },
  {
   "cell_type": "markdown",
   "metadata": {},
   "source": [
    "# all() e any()"
   ]
  },
  {
   "cell_type": "markdown",
   "metadata": {},
   "source": [
    "Estes comparam os itens de uma lista, retornando"
   ]
  },
  {
   "cell_type": "markdown",
   "metadata": {},
   "source": [
    "**all():** `True` se *TODOS* os itens forem verdaeiros ou `False` se *algum* item não for\n",
    "\n",
    "**any():** `True`se *algum* item for verdadeiro ou `False` se *TODOS* os itens forem fasos"
   ]
  },
  {
   "cell_type": "code",
   "execution_count": 43,
   "metadata": {},
   "outputs": [],
   "source": [
    "lista = [True, False, True, True]"
   ]
  },
  {
   "cell_type": "code",
   "execution_count": 44,
   "metadata": {},
   "outputs": [
    {
     "name": "stdout",
     "output_type": "stream",
     "text": [
      "False\n"
     ]
    }
   ],
   "source": [
    "print( all(lista) )"
   ]
  },
  {
   "cell_type": "code",
   "execution_count": 45,
   "metadata": {},
   "outputs": [
    {
     "name": "stdout",
     "output_type": "stream",
     "text": [
      "True\n"
     ]
    }
   ],
   "source": [
    "print( any(lista) )"
   ]
  }
 ],
 "metadata": {
  "kernelspec": {
   "display_name": "Python 3",
   "language": "python",
   "name": "python3"
  },
  "language_info": {
   "codemirror_mode": {
    "name": "ipython",
    "version": 3
   },
   "file_extension": ".py",
   "mimetype": "text/x-python",
   "name": "python",
   "nbconvert_exporter": "python",
   "pygments_lexer": "ipython3",
   "version": "3.7.3"
  }
 },
 "nbformat": 4,
 "nbformat_minor": 2
}
