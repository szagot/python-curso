{
 "cells": [
  {
   "cell_type": "markdown",
   "metadata": {},
   "source": [
    "# Projetos em Django\n",
    "\n",
    "Para iniciar projetos em Django, é bom criar um ambiente virtual, onde todas as bibliotecas para o projeto ficarão visíveis apenas ao projeto.\n",
    "\n",
    "Para isso use a biblioteca **virtualenv**"
   ]
  },
  {
   "cell_type": "markdown",
   "metadata": {},
   "source": [
    "## Instalando `virtualenv` (basta uma vez)\n",
    "\n",
    "`$ pip install virtualenv`"
   ]
  },
  {
   "cell_type": "markdown",
   "metadata": {},
   "source": [
    "### Iniciando `virtualenv`\n",
    "\n",
    "`$ virtualenv nome-da-pasta [-p local/do/python.exe]`\n",
    "\n",
    "A opção **-p** só é necessária se tiver mais de uma instalação do Python\n",
    "\n",
    "**Exemplo:**\n",
    "\n",
    "`$ virtualenv venv -p /c/Users/szago/AppData/Local/Programs/Python/Python37-32/python.exe`"
   ]
  },
  {
   "cell_type": "markdown",
   "metadata": {},
   "source": [
    "### Ativando `virtualenv`\n",
    "\n",
    "Dentro da pasta iniciada (*venv*, por exemplo) haverá uma pasta **bin** ou **Scripts**. Dentro dela terá um comando **activate** e outro **deactivate**\n",
    "\n",
    "Use o **activate** para usar o python da pasta virualizada.\n",
    "\n",
    "Use o **deactivate** para voltar a usar o Python global"
   ]
  },
  {
   "cell_type": "markdown",
   "metadata": {},
   "source": [
    "## Intalando o Django\n",
    "\n",
    "Com o virtualenv ativado, use o comando:\n",
    "\n",
    "`$ pip install django==2.3.3` (verifique antes qual a versão do django no site [djangoproject](https://www.djangoproject.com/download/)"
   ]
  },
  {
   "cell_type": "markdown",
   "metadata": {},
   "source": [
    "### Iniciando um projeto Django\n",
    "\n",
    "Para inicar um projeto novo, com o virtualenv ativo, digite:\n",
    "\n",
    "`$ django-admin startproject nome-do-projeto`\n",
    "\n",
    "Será criada uma pasta com o nome-do-projeto"
   ]
  },
  {
   "cell_type": "markdown",
   "metadata": {},
   "source": [
    "### Iniciando Server\n",
    "\n",
    "Dentro da pasta criada, use o comando:\n",
    "\n",
    "`$ python manage.py runserver [8000]`\n",
    "\n",
    "A porta é opcional. Se não for informada, será usada a porta 8000.\n",
    "\n",
    "Para acessar o site, vá para http://localhost:8000/"
   ]
  },
  {
   "cell_type": "markdown",
   "metadata": {},
   "source": [
    "### Iniciando tabelas do Banco de dados\n",
    "\n",
    "Após configurar o Django (pasta-do-projeto/pasta-do-projeto/settings.py) execute, com o virtualenv ativo:\n",
    "\n",
    "`$ python manage.py migrate`"
   ]
  },
  {
   "cell_type": "markdown",
   "metadata": {},
   "source": [
    "### Criando uma aplicação\n",
    "\n",
    "Para criar uma aplicação do Django, use:\n",
    "\n",
    "`$ python manage.py startapp nome-do-app`"
   ]
  }
 ],
 "metadata": {
  "kernelspec": {
   "display_name": "Python 3",
   "language": "python",
   "name": "python3"
  },
  "language_info": {
   "codemirror_mode": {
    "name": "ipython",
    "version": 3
   },
   "file_extension": ".py",
   "mimetype": "text/x-python",
   "name": "python",
   "nbconvert_exporter": "python",
   "pygments_lexer": "ipython3",
   "version": "3.7.3"
  }
 },
 "nbformat": 4,
 "nbformat_minor": 2
}
