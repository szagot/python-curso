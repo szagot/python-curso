{
 "cells": [
  {
   "cell_type": "markdown",
   "metadata": {},
   "source": [
    "# Programação Orientada a Objetos"
   ]
  },
  {
   "cell_type": "markdown",
   "metadata": {},
   "source": [
    "Tudo no Python é um Objeto"
   ]
  },
  {
   "cell_type": "code",
   "execution_count": 5,
   "metadata": {},
   "outputs": [
    {
     "name": "stdout",
     "output_type": "stream",
     "text": [
      "<class 'list'>\n"
     ]
    }
   ],
   "source": [
    "l=[1,2,3]\n",
    "print(type(l))"
   ]
  },
  {
   "cell_type": "markdown",
   "metadata": {},
   "source": [
    "Note que uma lista é um objeto (instanciado de uma classe) do tipo list.\n",
    "\n",
    "**Até mesmo uma função é um objeto:**"
   ]
  },
  {
   "cell_type": "code",
   "execution_count": 2,
   "metadata": {},
   "outputs": [
    {
     "name": "stdout",
     "output_type": "stream",
     "text": [
      "6\n"
     ]
    }
   ],
   "source": [
    "def soma(*nums):\n",
    "    return sum(nums)\n",
    "\n",
    "print(soma(1,2,3))"
   ]
  },
  {
   "cell_type": "code",
   "execution_count": 3,
   "metadata": {},
   "outputs": [
    {
     "name": "stdout",
     "output_type": "stream",
     "text": [
      "<class 'function'>\n"
     ]
    }
   ],
   "source": [
    "print(type(soma))"
   ]
  },
  {
   "cell_type": "markdown",
   "metadata": {},
   "source": [
    "# Classes"
   ]
  },
  {
   "cell_type": "code",
   "execution_count": 4,
   "metadata": {},
   "outputs": [],
   "source": [
    "class Sample(object):\n",
    "    pass"
   ]
  },
  {
   "cell_type": "code",
   "execution_count": 5,
   "metadata": {},
   "outputs": [],
   "source": [
    "exemplo = Sample()"
   ]
  },
  {
   "cell_type": "code",
   "execution_count": 6,
   "metadata": {},
   "outputs": [
    {
     "name": "stdout",
     "output_type": "stream",
     "text": [
      "<class '__main__.Sample'>\n"
     ]
    }
   ],
   "source": [
    "print(type(exemplo))"
   ]
  },
  {
   "cell_type": "markdown",
   "metadata": {},
   "source": [
    "Os atributos das classes podem ser criados de dois jeitos: Logo abaixo da declaração, ou dentro do método `__init__(self, parametros)`"
   ]
  },
  {
   "cell_type": "code",
   "execution_count": 11,
   "metadata": {},
   "outputs": [],
   "source": [
    "class Dog(object):\n",
    "    # Atributo Raça\n",
    "    raca = 'vira-lata'\n",
    "    \n",
    "    def __init__(self, nome):\n",
    "        # Atributo Nome\n",
    "        self.nome = nome"
   ]
  },
  {
   "cell_type": "code",
   "execution_count": 15,
   "metadata": {},
   "outputs": [
    {
     "name": "stdout",
     "output_type": "stream",
     "text": [
      "Snoopy\n"
     ]
    }
   ],
   "source": [
    "cachorro = Dog('Snoopy')\n",
    "print(cachorro.nome)"
   ]
  },
  {
   "cell_type": "code",
   "execution_count": 13,
   "metadata": {},
   "outputs": [
    {
     "name": "stdout",
     "output_type": "stream",
     "text": [
      "Beagle\n"
     ]
    }
   ],
   "source": [
    "cachorro.raca = 'Beagle'\n",
    "print(cachorro.raca)"
   ]
  },
  {
   "cell_type": "code",
   "execution_count": 14,
   "metadata": {},
   "outputs": [
    {
     "name": "stdout",
     "output_type": "stream",
     "text": [
      "<class '__main__.Dog'>\n"
     ]
    }
   ],
   "source": [
    "print(type(cachorro))"
   ]
  },
  {
   "cell_type": "markdown",
   "metadata": {},
   "source": [
    "# Métodos"
   ]
  },
  {
   "cell_type": "markdown",
   "metadata": {},
   "source": [
    "Todo método em Python deve ter como primeiro parâmento o `self`, seguido dos parâmetros do método, se aplicável. Exemplo:"
   ]
  },
  {
   "cell_type": "code",
   "execution_count": 18,
   "metadata": {},
   "outputs": [],
   "source": [
    "class Circulo:\n",
    "    pi = 3.1415\n",
    "    \n",
    "    def __inti__(self, raio = 1):\n",
    "        self.raio = raio\n",
    "    \n",
    "    def area(self):\n",
    "        return self.raio ** 2 * self.pi\n",
    "    \n",
    "    def setRaio(self, raio):\n",
    "        self.raio = raio\n",
    "        return self"
   ]
  },
  {
   "cell_type": "code",
   "execution_count": 20,
   "metadata": {},
   "outputs": [
    {
     "name": "stdout",
     "output_type": "stream",
     "text": [
      "78.54\n"
     ]
    }
   ],
   "source": [
    "circulo = Circulo()\n",
    "print( f'{circulo.setRaio(5).area():.2f}' )"
   ]
  },
  {
   "cell_type": "markdown",
   "metadata": {},
   "source": [
    "# Herança"
   ]
  },
  {
   "cell_type": "markdown",
   "metadata": {},
   "source": [
    "A herança é feita por passar a classe mãe como parametro de classe, ao inves de usar o `object`"
   ]
  },
  {
   "cell_type": "code",
   "execution_count": 3,
   "metadata": {},
   "outputs": [],
   "source": [
    "class Animal(object):\n",
    "    def __init__(self):\n",
    "        print('Animal Criado!')\n",
    "    \n",
    "    def quemSouEu(self):\n",
    "        print('Sou um animal!')\n",
    "    \n",
    "    def comer(self):\n",
    "        print('Delícia de comida!')"
   ]
  },
  {
   "cell_type": "code",
   "execution_count": 4,
   "metadata": {},
   "outputs": [],
   "source": [
    "class Cachorro(Animal):\n",
    "    def __init__(self):\n",
    "        # Executa o construtor do objeto herdado\n",
    "        Animal.__init__(self)\n",
    "        # Executa comandos proprios deste construtor\n",
    "        print('Cachorro Criado!')\n",
    "    \n",
    "    # Sobrescreve o método quemSouEu herdado\n",
    "    def quemSouEu(self):\n",
    "        print('Sou um Cachorro!')\n",
    "    \n",
    "    # Metodo Novo\n",
    "    def latir(self):\n",
    "        print('Au!\\n'*3)"
   ]
  },
  {
   "cell_type": "code",
   "execution_count": 5,
   "metadata": {},
   "outputs": [
    {
     "name": "stdout",
     "output_type": "stream",
     "text": [
      "Animal Criado!\n",
      "Cachorro Criado!\n"
     ]
    }
   ],
   "source": [
    "snoopy = Cachorro()"
   ]
  },
  {
   "cell_type": "code",
   "execution_count": 6,
   "metadata": {},
   "outputs": [
    {
     "name": "stdout",
     "output_type": "stream",
     "text": [
      "Sou um Cachorro!\n"
     ]
    }
   ],
   "source": [
    "# Metodo substituido\n",
    "snoopy.quemSouEu()"
   ]
  },
  {
   "cell_type": "code",
   "execution_count": 7,
   "metadata": {},
   "outputs": [
    {
     "name": "stdout",
     "output_type": "stream",
     "text": [
      "Delícia de comida!\n"
     ]
    }
   ],
   "source": [
    "# Método de Animal Hedado\n",
    "snoopy.comer()"
   ]
  },
  {
   "cell_type": "code",
   "execution_count": 8,
   "metadata": {},
   "outputs": [
    {
     "name": "stdout",
     "output_type": "stream",
     "text": [
      "Au!\n",
      "Au!\n",
      "Au!\n",
      "\n"
     ]
    }
   ],
   "source": [
    "# Método exclusivo de Cachorro\n",
    "snoopy.latir()"
   ]
  },
  {
   "cell_type": "markdown",
   "metadata": {},
   "source": [
    "# Métodos Especiais"
   ]
  },
  {
   "cell_type": "markdown",
   "metadata": {},
   "source": [
    "São métodos que mudam o comportamento da classe\n",
    "\n",
    "`__init__(self):` Construtor da classe, chmado quando da instancia da classe\n",
    "\n",
    "`__del__(self):` Destrutor da classe, chamado pelo comando `del classe`, ou quando o objeto recebe outro valor\n",
    "\n",
    "`__str__(self):` Método chamado quando há uma impressão de dados, ao utilizar `print()` por exemplo\n",
    "\n",
    "`__len__(self):` Método chamado pela função `len()`"
   ]
  },
  {
   "cell_type": "code",
   "execution_count": 25,
   "metadata": {},
   "outputs": [],
   "source": [
    "class Livro(object):\n",
    "    # Construtor\n",
    "    def __init__(self, titulo, autor, paginas):\n",
    "        print('Livro criado')\n",
    "        self.titulo = titulo\n",
    "        self.autor = autor\n",
    "        self.paginas = paginas\n",
    "    \n",
    "    # Destrutor\n",
    "    def __del__(self):\n",
    "        print('Livro destruído')\n",
    "    \n",
    "    # Quando se solicita o tamanho do objeto\n",
    "    def __len__(self):\n",
    "        return self.paginas\n",
    "    \n",
    "    # Quando se solicits impressão\n",
    "    def __str__(self):\n",
    "        return f'Título: {self.titulo}\\nAutor: {self.autor}'\n",
    "    "
   ]
  },
  {
   "cell_type": "code",
   "execution_count": 28,
   "metadata": {},
   "outputs": [
    {
     "name": "stdout",
     "output_type": "stream",
     "text": [
      "Livro criado\n"
     ]
    }
   ],
   "source": [
    "# Isso irá chamar o método __init__()\n",
    "livro = Livro('Código Da Vinci', 'Dan Drown', 322)"
   ]
  },
  {
   "cell_type": "code",
   "execution_count": 29,
   "metadata": {},
   "outputs": [
    {
     "name": "stdout",
     "output_type": "stream",
     "text": [
      "Título: Código Da Vinci\n",
      "Autor: Dan Drown\n"
     ]
    }
   ],
   "source": [
    "# Isso irá chamar o método __str__()\n",
    "print(livro)"
   ]
  },
  {
   "cell_type": "code",
   "execution_count": 31,
   "metadata": {},
   "outputs": [
    {
     "name": "stdout",
     "output_type": "stream",
     "text": [
      "322\n"
     ]
    }
   ],
   "source": [
    "# Isso irá chamar o método __len__()\n",
    "print(len(livro))"
   ]
  },
  {
   "cell_type": "code",
   "execution_count": 32,
   "metadata": {},
   "outputs": [
    {
     "name": "stdout",
     "output_type": "stream",
     "text": [
      "Livro destruído\n"
     ]
    }
   ],
   "source": [
    "# Isso irá chamar o método __del__()\n",
    "del livro"
   ]
  }
 ],
 "metadata": {
  "kernelspec": {
   "display_name": "Python 3",
   "language": "python",
   "name": "python3"
  },
  "language_info": {
   "codemirror_mode": {
    "name": "ipython",
    "version": 3
   },
   "file_extension": ".py",
   "mimetype": "text/x-python",
   "name": "python",
   "nbconvert_exporter": "python",
   "pygments_lexer": "ipython3",
   "version": "3.7.3"
  }
 },
 "nbformat": 4,
 "nbformat_minor": 2
}
