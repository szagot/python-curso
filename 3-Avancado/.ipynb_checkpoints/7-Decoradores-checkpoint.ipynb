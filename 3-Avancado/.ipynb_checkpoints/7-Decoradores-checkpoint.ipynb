{
 "cells": [
  {
   "cell_type": "markdown",
   "metadata": {},
   "source": [
    "# Decoradores"
   ]
  },
  {
   "cell_type": "markdown",
   "metadata": {},
   "source": [
    "Decoradores são funções que alteram o comportamento de outras funções. Segue conceito:"
   ]
  },
  {
   "cell_type": "code",
   "execution_count": 2,
   "metadata": {},
   "outputs": [
    {
     "name": "stdout",
     "output_type": "stream",
     "text": [
      "Código antes da função\n",
      "Olha eu decorada!\n",
      "Código depois da função\n"
     ]
    }
   ],
   "source": [
    "def decorador(func):\n",
    "    def funcao_interna():\n",
    "        print('Código antes da função')\n",
    "        func()\n",
    "        print('Código depois da função')\n",
    "    \n",
    "    return funcao_interna\n",
    "\n",
    "def precisa_decorar():\n",
    "    print(\"Olha eu decorada!\")\n",
    "\n",
    "# Alterando comportamento da função (decorando função)\n",
    "precisa_decorar = decorador( precisa_decorar )\n",
    "\n",
    "# Executando função alterada\n",
    "precisa_decorar()"
   ]
  },
  {
   "cell_type": "markdown",
   "metadata": {},
   "source": [
    "Porém, o \"lindo\" do Python facilita nossa vida ao definirmos decoradores. O abaixo terá o mesmo comportamento do código acima:"
   ]
  },
  {
   "cell_type": "code",
   "execution_count": 6,
   "metadata": {},
   "outputs": [
    {
     "name": "stdout",
     "output_type": "stream",
     "text": [
      "Código antes da função\n",
      "Olha eu decorada!\n",
      "Código depois da função\n"
     ]
    }
   ],
   "source": [
    "def decorador(func):\n",
    "    def funcao_interna():\n",
    "        print('Código antes da função')\n",
    "        func()\n",
    "        print('Código depois da função')\n",
    "    \n",
    "    return funcao_interna\n",
    "\n",
    "# Ao usar a notação \"@\", o Python entende que a função seguinte é um decorador para a função que será definida abaixo\n",
    "@decorador\n",
    "def precisa_decorar():\n",
    "    print(\"Olha eu decorada!\")\n",
    "\n",
    "precisa_decorar()"
   ]
  }
 ],
 "metadata": {
  "kernelspec": {
   "display_name": "Python 3",
   "language": "python",
   "name": "python3"
  },
  "language_info": {
   "codemirror_mode": {
    "name": "ipython",
    "version": 3
   },
   "file_extension": ".py",
   "mimetype": "text/x-python",
   "name": "python",
   "nbconvert_exporter": "python",
   "pygments_lexer": "ipython3",
   "version": "3.7.3"
  }
 },
 "nbformat": 4,
 "nbformat_minor": 2
}
