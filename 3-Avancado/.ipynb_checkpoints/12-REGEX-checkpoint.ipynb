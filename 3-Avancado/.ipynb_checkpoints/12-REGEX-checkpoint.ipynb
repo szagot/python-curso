{
 "cells": [
  {
   "cell_type": "markdown",
   "metadata": {},
   "source": [
    "# REGEX"
   ]
  },
  {
   "cell_type": "code",
   "execution_count": 1,
   "metadata": {},
   "outputs": [],
   "source": [
    "import re"
   ]
  },
  {
   "cell_type": "code",
   "execution_count": 7,
   "metadata": {},
   "outputs": [
    {
     "name": "stdout",
     "output_type": "stream",
     "text": [
      "Padrão encontrado!\n"
     ]
    }
   ],
   "source": [
    "text = 'Testando regex'\n",
    "if re.search(r'^[a-z]', text, re.IGNORECASE):\n",
    "    print('Padrão encontrado!')\n",
    "else:\n",
    "    print('Padrão não encontrado')"
   ]
  },
  {
   "cell_type": "markdown",
   "metadata": {},
   "source": [
    "**Substituindo**"
   ]
  },
  {
   "cell_type": "code",
   "execution_count": 25,
   "metadata": {},
   "outputs": [
    {
     "name": "stdout",
     "output_type": "stream",
     "text": [
      "12/03/2019\n"
     ]
    }
   ],
   "source": [
    "data = '2019-03-12'\n",
    "data_br = re.sub(r'^([0-9]{4}).([0-9]{2}).([0-9]{2})$', r'\\3/\\2/\\1', data)\n",
    "\n",
    "print(data_br)"
   ]
  }
 ],
 "metadata": {
  "kernelspec": {
   "display_name": "Python 3",
   "language": "python",
   "name": "python3"
  },
  "language_info": {
   "codemirror_mode": {
    "name": "ipython",
    "version": 3
   },
   "file_extension": ".py",
   "mimetype": "text/x-python",
   "name": "python",
   "nbconvert_exporter": "python",
   "pygments_lexer": "ipython3",
   "version": "3.7.3"
  }
 },
 "nbformat": 4,
 "nbformat_minor": 2
}
