{
 "cells": [
  {
   "cell_type": "markdown",
   "metadata": {},
   "source": [
    "# Exceções e Erros"
   ]
  },
  {
   "cell_type": "markdown",
   "metadata": {},
   "source": [
    "Para lidar com erros usa-se:\n",
    "\n",
    "    try:\n",
    "        # Código que pode falhar\n",
    "    except Excecao1:\n",
    "        # O que fazer se ocorrer a exceção 1\n",
    "    except Excecao2:\n",
    "        # O que fazer se ocorrer a exceção 2\n",
    "    except:\n",
    "        # O que fazer se ocorrer qualquer erro\n",
    "    else:\n",
    "        # Código a ser executado APENAS se não houve erros\n",
    "    finally:\n",
    "        # Executa independentemente do fato de haver ou não erros\n",
    "\n",
    "A lista completa de exceções, caso sejam definidas, está [aqui](https://docs.python.org/3/library/exceptions.html#exception-hierarchy)"
   ]
  },
  {
   "cell_type": "code",
   "execution_count": 5,
   "metadata": {},
   "outputs": [
    {
     "name": "stdout",
     "output_type": "stream",
     "text": [
      "Digite um número inteiro: teste\n",
      "Você precisava ter digita um número!\n",
      "Finalizado!\n"
     ]
    }
   ],
   "source": [
    "try:    \n",
    "    numero = int(input('Digite um número inteiro: '))\n",
    "except ValueError:\n",
    "    print('Você precisava ter digita um número!')\n",
    "except:\n",
    "    print('Falha Interna!')\n",
    "else:\n",
    "    print(f'Você digitou o número {numero}')\n",
    "finally:\n",
    "    print('Finalizado!')"
   ]
  },
  {
   "cell_type": "markdown",
   "metadata": {},
   "source": [
    "**Exemplo de Trabalho com arquivo**"
   ]
  },
  {
   "cell_type": "code",
   "execution_count": 21,
   "metadata": {},
   "outputs": [
    {
     "name": "stdout",
     "output_type": "stream",
     "text": [
      "Arquivo não encontrado!\n"
     ]
    }
   ],
   "source": [
    "try:\n",
    "    # Abrindo o arquvio somente leitura\n",
    "    arquivo = open('teste.txt', 'r')\n",
    "\n",
    "    # Isso vai dar erro. Para abrir o arquivo para escrita use \n",
    "    #     'w' (sobrescreve o arquivo se existir) ou \n",
    "    #     'a' (abre para escrita e coloca o cursor no final do arquivo)\n",
    "    # Em ambos os casos ('a' e 'w') o arquivo será criado se não existir\n",
    "    arquivo.write('Teste')\n",
    "\n",
    "except FileNotFoundError:\n",
    "    print('Arquivo não encontrado!')\n",
    "    \n",
    "except IOError:\n",
    "    print('Erro ao tentar gravar no arquivo')\n",
    "    # Fecha o arquivo\n",
    "    arquivo.close()\n",
    "\n",
    "else:\n",
    "    print('Dados gravados com suceso!')\n",
    "    # Fecha o arquivo\n",
    "    arquivo.close()"
   ]
  }
 ],
 "metadata": {
  "kernelspec": {
   "display_name": "Python 3",
   "language": "python",
   "name": "python3"
  },
  "language_info": {
   "codemirror_mode": {
    "name": "ipython",
    "version": 3
   },
   "file_extension": ".py",
   "mimetype": "text/x-python",
   "name": "python",
   "nbconvert_exporter": "python",
   "pygments_lexer": "ipython3",
   "version": "3.7.3"
  }
 },
 "nbformat": 4,
 "nbformat_minor": 2
}
