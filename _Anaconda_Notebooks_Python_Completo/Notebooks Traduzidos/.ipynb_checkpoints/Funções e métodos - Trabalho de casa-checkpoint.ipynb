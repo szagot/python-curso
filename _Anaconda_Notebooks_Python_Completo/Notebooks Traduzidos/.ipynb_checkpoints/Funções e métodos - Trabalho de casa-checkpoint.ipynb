{
 "cells": [
  {
   "cell_type": "markdown",
   "metadata": {},
   "source": [
    "# Funções e métodos - Trabalho de casa\n",
    "\n",
    "Responda as seguintes perguntas:\n",
    "____\n",
    "**Escreva uma função que calcula o volume de uma esfera dado seu raio.**"
   ]
  },
  {
   "cell_type": "code",
   "execution_count": 4,
   "metadata": {},
   "outputs": [
    {
     "name": "stdout",
     "output_type": "stream",
     "text": [
      "523.5987755982989\n"
     ]
    }
   ],
   "source": [
    "def vol(rad):\n",
    "    from math import pi\n",
    "    return (rad**3) * 4/3 * pi\n",
    "\n",
    "print(vol(5))"
   ]
  },
  {
   "cell_type": "markdown",
   "metadata": {},
   "source": [
    "**Escreva uma função que verifica se um número está em um determinado intervalo (inclusive o máximo e mínimo)**"
   ]
  },
  {
   "cell_type": "code",
   "execution_count": 12,
   "metadata": {},
   "outputs": [
    {
     "name": "stdout",
     "output_type": "stream",
     "text": [
      "True\n"
     ]
    }
   ],
   "source": [
    "def ran_check(num,low,high):\n",
    "    return low <= num <= high\n",
    "\n",
    "print(ran_check(5,1,10))"
   ]
  },
  {
   "cell_type": "markdown",
   "metadata": {},
   "source": [
    "Se você quisesse apenas retornar um booleano:"
   ]
  },
  {
   "cell_type": "code",
   "execution_count": 8,
   "metadata": {
    "collapsed": true
   },
   "outputs": [],
   "source": [
    "def ran_bool(num,low,high):\n",
    "    pass"
   ]
  },
  {
   "cell_type": "code",
   "execution_count": 9,
   "metadata": {},
   "outputs": [
    {
     "data": {
      "text/plain": [
       "True"
      ]
     },
     "execution_count": 9,
     "metadata": {},
     "output_type": "execute_result"
    }
   ],
   "source": [
    "ran_bool(3,1,10)"
   ]
  },
  {
   "cell_type": "markdown",
   "metadata": {},
   "source": [
    "** Escreva uma função Python que aceita uma string e calcule o número de maiúsculas e minúsculas. **\n",
    "\n",
    "     Exemplo de Cadeia: 'Olá Sr. Rogers, como você está bem, terça-feira?'\n",
    "     Saída esperada:\n",
    "     Número de caracteres maiúsculas: 4\n",
    "     Número de caracteres minúsculos: 33\n",
    "\n",
    "Se você se sentir ambicioso, explore o módulo de Coleções para resolver esse problema!"
   ]
  },
  {
   "cell_type": "code",
   "execution_count": 18,
   "metadata": {},
   "outputs": [
    {
     "name": "stdout",
     "output_type": "stream",
     "text": [
      "Número de caracteres maiúsculos: 3\n",
      "Número de caracteres minusculos: 33\n"
     ]
    }
   ],
   "source": [
    "def up_low(s):\n",
    "    maiusculas = len(list(filter(lambda c: c.isupper(), s)))\n",
    "    minusculas = len(list(filter(lambda c: c.islower(), s)))\n",
    "    print('Número de caracteres maiúsculos:', maiusculas)\n",
    "    print('Número de caracteres minusculos:', minusculas)\n",
    "\n",
    "up_low('Olá Sr. Rogers, como você está bem, terça-feira?')"
   ]
  },
  {
   "cell_type": "markdown",
   "metadata": {},
   "source": [
    "**Escreva uma função Python que recebe uma lista e retorna uma nova lista com elementos exclusivos da primeira lista.**\n",
    "\n",
    "     Lista de Amostras: [1,1,1,1,2,2,3,3,3,3,4,5]\n",
    "     Lista única: [1, 2, 3, 4, 5]"
   ]
  },
  {
   "cell_type": "code",
   "execution_count": 20,
   "metadata": {},
   "outputs": [],
   "source": [
    "def unique_list(l):\n",
    "    return list(set(l))"
   ]
  },
  {
   "cell_type": "code",
   "execution_count": 21,
   "metadata": {},
   "outputs": [
    {
     "data": {
      "text/plain": [
       "[1, 2, 3, 4, 5]"
      ]
     },
     "execution_count": 21,
     "metadata": {},
     "output_type": "execute_result"
    }
   ],
   "source": [
    "unique_list([1,1,1,1,2,2,3,3,3,3,4,5])"
   ]
  },
  {
   "cell_type": "markdown",
   "metadata": {},
   "source": [
    "**Escreva uma função Python para multiplicar todos os números em uma lista.**\n",
    "\n",
    "     Lista de exemplos: [1, 2, 3, -4]\n",
    "     Saída esperada: -24"
   ]
  },
  {
   "cell_type": "code",
   "execution_count": 22,
   "metadata": {},
   "outputs": [],
   "source": [
    "def multiply(numbers):  \n",
    "    result = 1\n",
    "    for n in numbers:\n",
    "        result *= n\n",
    "    return result        "
   ]
  },
  {
   "cell_type": "code",
   "execution_count": 23,
   "metadata": {},
   "outputs": [
    {
     "data": {
      "text/plain": [
       "-24"
      ]
     },
     "execution_count": 23,
     "metadata": {},
     "output_type": "execute_result"
    }
   ],
   "source": [
    "multiply([1,2,3,-4])"
   ]
  },
  {
   "cell_type": "markdown",
   "metadata": {},
   "source": [
    "**Escreva uma função Python que verifica se uma string passada é palindrome ou não.**\n",
    "\n",
    "Nota: Um palíndromo é palavra, frase ou seqüência que lê o mesmo para trás."
   ]
  },
  {
   "cell_type": "code",
   "execution_count": 24,
   "metadata": {},
   "outputs": [],
   "source": [
    "def palindrome(s):\n",
    "    s = s.replace(' ', '').lower()\n",
    "    return s == s[::-1]"
   ]
  },
  {
   "cell_type": "code",
   "execution_count": 25,
   "metadata": {},
   "outputs": [
    {
     "data": {
      "text/plain": [
       "True"
      ]
     },
     "execution_count": 25,
     "metadata": {},
     "output_type": "execute_result"
    }
   ],
   "source": [
    "palindrome('helleh')"
   ]
  },
  {
   "cell_type": "markdown",
   "metadata": {},
   "source": [
    "**Difícil**:\n",
    "\n",
    "Escreva uma função Python para verificar se uma string é um pangrama ou não.\n",
    "\n",
    "     Nota: Pangramas são palavras ou frases contendo cada letra do alfabeto pelo menos uma vez.\n",
    "\n",
    "Dica: veja o módulo de strings"
   ]
  },
  {
   "cell_type": "code",
   "execution_count": 34,
   "metadata": {},
   "outputs": [],
   "source": [
    "import string\n",
    "\n",
    "def ispangram(str1, alphabet=string.ascii_lowercase):  \n",
    "    for c in alphabet:\n",
    "        if c not in str1.lower().replace(' ', ''):\n",
    "            return False\n",
    "    return True"
   ]
  },
  {
   "cell_type": "code",
   "execution_count": 37,
   "metadata": {},
   "outputs": [
    {
     "data": {
      "text/plain": [
       "True"
      ]
     },
     "execution_count": 37,
     "metadata": {},
     "output_type": "execute_result"
    }
   ],
   "source": [
    "ispangram(\"The quick brown fox jumps over the lazy dog\")"
   ]
  },
  {
   "cell_type": "code",
   "execution_count": 39,
   "metadata": {},
   "outputs": [
    {
     "data": {
      "text/plain": [
       "'abcdefghijklmnopqrstuvwxyz'"
      ]
     },
     "execution_count": 39,
     "metadata": {},
     "output_type": "execute_result"
    }
   ],
   "source": [
    "string.ascii_lowercase"
   ]
  }
 ],
 "metadata": {
  "kernelspec": {
   "display_name": "Python 3",
   "language": "python",
   "name": "python3"
  },
  "language_info": {
   "codemirror_mode": {
    "name": "ipython",
    "version": 3
   },
   "file_extension": ".py",
   "mimetype": "text/x-python",
   "name": "python",
   "nbconvert_exporter": "python",
   "pygments_lexer": "ipython3",
   "version": "3.7.3"
  }
 },
 "nbformat": 4,
 "nbformat_minor": 1
}
